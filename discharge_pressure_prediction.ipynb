{
  "nbformat": 4,
  "nbformat_minor": 0,
  "metadata": {
    "colab": {
      "name": "discharge-pressure-prediction.ipynb",
      "provenance": [],
      "collapsed_sections": [],
      "machine_shape": "hm",
      "authorship_tag": "ABX9TyP1IlpXg8S1YAAr0fS+Uwr9",
      "include_colab_link": true
    },
    "kernelspec": {
      "name": "python3",
      "display_name": "Python 3"
    },
    "accelerator": "GPU"
  },
  "cells": [
    {
      "cell_type": "markdown",
      "metadata": {
        "id": "view-in-github",
        "colab_type": "text"
      },
      "source": [
        "<a href=\"https://colab.research.google.com/github/abhishek-shrm/discharge-pressure-prediction/blob/master/discharge_pressure_prediction.ipynb\" target=\"_parent\"><img src=\"https://colab.research.google.com/assets/colab-badge.svg\" alt=\"Open In Colab\"/></a>"
      ]
    },
    {
      "cell_type": "markdown",
      "metadata": {
        "id": "nRqUZ6-N5IKq",
        "colab_type": "text"
      },
      "source": [
        "# **Discharge Pressure Prediction**\n",
        "Welcome to the Discharge Pressure prediction project. It is a regression problem where I have to predict Discharge Pressure in psig.\n"
      ]
    },
    {
      "cell_type": "code",
      "metadata": {
        "id": "MpODqSgUWl4b",
        "colab_type": "code",
        "colab": {}
      },
      "source": [
        "# Installing tensorflow 2.0+ for this project\n",
        "!pip install tensorflow-gpu"
      ],
      "execution_count": 0,
      "outputs": []
    },
    {
      "cell_type": "code",
      "metadata": {
        "id": "4qIWWRmuWsyA",
        "colab_type": "code",
        "outputId": "3a42c7ab-f046-4d10-cabc-c0a884916325",
        "colab": {
          "base_uri": "https://localhost:8080/",
          "height": 35
        }
      },
      "source": [
        "# Importing tensorflow and checking its version\n",
        "import os\n",
        "import tensorflow as tf\n",
        "print(tf.__version__)"
      ],
      "execution_count": 0,
      "outputs": [
        {
          "output_type": "stream",
          "text": [
            "2.1.0\n"
          ],
          "name": "stdout"
        }
      ]
    },
    {
      "cell_type": "markdown",
      "metadata": {
        "id": "yi-DjPdcNv_V",
        "colab_type": "text"
      },
      "source": [
        "In this project, I am using Bayesian optimization for tuning hyperparameters of different models. Bayesian optimization is based on Bayesian inference and the Gaussian process. It is an open-source package used for finding the maximum value of an unknown function in as few iterations as possible. It is very fast when compared to other hyperparameter optimizers like, GridSearch and RandomSearch."
      ]
    },
    {
      "cell_type": "code",
      "metadata": {
        "id": "Wv5wVnk8dhSL",
        "colab_type": "code",
        "outputId": "d1b92172-5a08-45fe-f15a-ce322241f186",
        "colab": {
          "base_uri": "https://localhost:8080/",
          "height": 267
        }
      },
      "source": [
        "# Installing bayesian-optimization package\n",
        "!pip install bayesian-optimization"
      ],
      "execution_count": 0,
      "outputs": [
        {
          "output_type": "stream",
          "text": [
            "Collecting bayesian-optimization\n",
            "  Downloading https://files.pythonhosted.org/packages/72/0c/173ac467d0a53e33e41b521e4ceba74a8ac7c7873d7b857a8fbdca88302d/bayesian-optimization-1.0.1.tar.gz\n",
            "Requirement already satisfied: numpy>=1.9.0 in /usr/local/lib/python3.6/dist-packages (from bayesian-optimization) (1.17.5)\n",
            "Requirement already satisfied: scipy>=0.14.0 in /usr/local/lib/python3.6/dist-packages (from bayesian-optimization) (1.4.1)\n",
            "Requirement already satisfied: scikit-learn>=0.18.0 in /usr/local/lib/python3.6/dist-packages (from bayesian-optimization) (0.22.1)\n",
            "Requirement already satisfied: joblib>=0.11 in /usr/local/lib/python3.6/dist-packages (from scikit-learn>=0.18.0->bayesian-optimization) (0.14.1)\n",
            "Building wheels for collected packages: bayesian-optimization\n",
            "  Building wheel for bayesian-optimization (setup.py) ... \u001b[?25l\u001b[?25hdone\n",
            "  Created wheel for bayesian-optimization: filename=bayesian_optimization-1.0.1-cp36-none-any.whl size=10032 sha256=06531569e80e205606ce35201551d05cb2af77cd742f5bd578105a5149f3a642\n",
            "  Stored in directory: /root/.cache/pip/wheels/1d/0d/3b/6b9d4477a34b3905f246ff4e7acf6aafd4cc9b77d473629b77\n",
            "Successfully built bayesian-optimization\n",
            "Installing collected packages: bayesian-optimization\n",
            "Successfully installed bayesian-optimization-1.0.1\n"
          ],
          "name": "stdout"
        }
      ]
    },
    {
      "cell_type": "code",
      "metadata": {
        "id": "r0nJfy60MFqg",
        "colab_type": "code",
        "colab": {}
      },
      "source": [
        "# Importing all the required libraries\n",
        "import numpy as np \n",
        "import pandas as pd # for handling dataframes\n",
        "from sklearn.preprocessing import StandardScaler #Standardizing the data\n",
        "import time # for doing processes related to time\n",
        "from bayes_opt import BayesianOptimization #for hyperparameter tuning\n",
        "from sklearn.externals import joblib # for saving models\n",
        "\n",
        "# for neural network related processes\n",
        "import tensorflow.keras\n",
        "from tensorflow.keras.models import Sequential\n",
        "from tensorflow.keras.layers import Dense, Activation, Dropout, InputLayer\n",
        "from tensorflow.keras.callbacks import EarlyStopping\n",
        "from tensorflow.keras.optimizers import Adam\n",
        "\n",
        "# for splitting the database\n",
        "from sklearn.model_selection import train_test_split\n",
        "from sklearn.model_selection import ShuffleSplit\n",
        "\n",
        "# for calculating mean squared error, visualization and others\n",
        "from sklearn.metrics import mean_squared_error\n",
        "import seaborn as sns\n",
        "import math\n",
        "import statistics\n",
        "import random\n",
        "import matplotlib.pyplot as plt\n",
        "import warnings\n",
        "warnings.filterwarnings(\"ignore\",category =RuntimeWarning)"
      ],
      "execution_count": 0,
      "outputs": []
    },
    {
      "cell_type": "markdown",
      "metadata": {
        "id": "yAjL-n-vP00M",
        "colab_type": "text"
      },
      "source": [
        "I found this function on the internet, which nicely formats the time."
      ]
    },
    {
      "cell_type": "code",
      "metadata": {
        "id": "cWPkfC4ehFLi",
        "colab_type": "code",
        "colab": {}
      },
      "source": [
        "def hms_string(sec_elapsed):\n",
        "    h = int(sec_elapsed / (60 * 60))\n",
        "    m = int((sec_elapsed % (60 * 60)) / 60)\n",
        "    s = sec_elapsed % 60\n",
        "    return \"{}:{:>02}:{:>05.2f}\".format(h, m, s)"
      ],
      "execution_count": 0,
      "outputs": []
    },
    {
      "cell_type": "markdown",
      "metadata": {
        "id": "ZeBCvV2WRWXm",
        "colab_type": "text"
      },
      "source": [
        "#### **Problem Statement**\n",
        "To predict Discharge Pressure in *psig*."
      ]
    },
    {
      "cell_type": "markdown",
      "metadata": {
        "id": "QVcpesLHRnu1",
        "colab_type": "text"
      },
      "source": [
        "#### **Data Understanding and Pre-processing**"
      ]
    },
    {
      "cell_type": "markdown",
      "metadata": {
        "id": "yuFOjBHQQihg",
        "colab_type": "text"
      },
      "source": [
        "I have downloaded the dataset and uploaded it to my GitHub repository so that I can easily access it inside the Google Colab. Now, I am loading the dataset and displaying first 5 rows of it."
      ]
    },
    {
      "cell_type": "code",
      "metadata": {
        "id": "_u7dRP7DNZEC",
        "colab_type": "code",
        "outputId": "28fbe00b-a4e2-49e8-b7fe-1579cbed1ceb",
        "colab": {
          "base_uri": "https://localhost:8080/",
          "height": 304
        }
      },
      "source": [
        "df=pd.read_csv('https://raw.githubusercontent.com/abhishek-shrm/discharge-pressure-prediction/master/Expander_data.csv')\n",
        "df.head()"
      ],
      "execution_count": 0,
      "outputs": [
        {
          "output_type": "execute_result",
          "data": {
            "text/html": [
              "<div>\n",
              "<style scoped>\n",
              "    .dataframe tbody tr th:only-of-type {\n",
              "        vertical-align: middle;\n",
              "    }\n",
              "\n",
              "    .dataframe tbody tr th {\n",
              "        vertical-align: top;\n",
              "    }\n",
              "\n",
              "    .dataframe thead th {\n",
              "        text-align: right;\n",
              "    }\n",
              "</style>\n",
              "<table border=\"1\" class=\"dataframe\">\n",
              "  <thead>\n",
              "    <tr style=\"text-align: right;\">\n",
              "      <th></th>\n",
              "      <th>Timestamp</th>\n",
              "      <th>Suction Pressure (psig)</th>\n",
              "      <th>Suction Temperature (F)</th>\n",
              "      <th>Total Flow (gpm)</th>\n",
              "      <th>Speed (rpm)</th>\n",
              "      <th>By-pass Valve Position (%)</th>\n",
              "      <th>Discharge Pressure (psig)</th>\n",
              "      <th>Discharge Temperature (F)</th>\n",
              "      <th>Run Status</th>\n",
              "    </tr>\n",
              "  </thead>\n",
              "  <tbody>\n",
              "    <tr>\n",
              "      <th>0</th>\n",
              "      <td>1/4/2020 21:20</td>\n",
              "      <td>596.100853</td>\n",
              "      <td>-229.436683</td>\n",
              "      <td>7925.800487</td>\n",
              "      <td>2999.411045</td>\n",
              "      <td>6.0</td>\n",
              "      <td>226.044931</td>\n",
              "      <td>-227.614448</td>\n",
              "      <td>NaN</td>\n",
              "    </tr>\n",
              "    <tr>\n",
              "      <th>1</th>\n",
              "      <td>1/4/2020 21:20</td>\n",
              "      <td>596.838217</td>\n",
              "      <td>-230.453708</td>\n",
              "      <td>8085.917724</td>\n",
              "      <td>2989.706617</td>\n",
              "      <td>6.0</td>\n",
              "      <td>217.150974</td>\n",
              "      <td>-228.668636</td>\n",
              "      <td>NaN</td>\n",
              "    </tr>\n",
              "    <tr>\n",
              "      <th>2</th>\n",
              "      <td>1/4/2020 21:20</td>\n",
              "      <td>596.468895</td>\n",
              "      <td>-229.545356</td>\n",
              "      <td>7902.175243</td>\n",
              "      <td>3006.331679</td>\n",
              "      <td>6.0</td>\n",
              "      <td>226.054086</td>\n",
              "      <td>-227.755324</td>\n",
              "      <td>NaN</td>\n",
              "    </tr>\n",
              "    <tr>\n",
              "      <th>3</th>\n",
              "      <td>1/4/2020 21:20</td>\n",
              "      <td>603.568271</td>\n",
              "      <td>-230.309438</td>\n",
              "      <td>7991.808959</td>\n",
              "      <td>3010.487486</td>\n",
              "      <td>6.0</td>\n",
              "      <td>226.016182</td>\n",
              "      <td>-228.489113</td>\n",
              "      <td>NaN</td>\n",
              "    </tr>\n",
              "    <tr>\n",
              "      <th>4</th>\n",
              "      <td>1/4/2020 21:21</td>\n",
              "      <td>595.407372</td>\n",
              "      <td>-229.767969</td>\n",
              "      <td>7871.560747</td>\n",
              "      <td>2986.665518</td>\n",
              "      <td>6.0</td>\n",
              "      <td>227.769383</td>\n",
              "      <td>-227.971795</td>\n",
              "      <td>NaN</td>\n",
              "    </tr>\n",
              "  </tbody>\n",
              "</table>\n",
              "</div>"
            ],
            "text/plain": [
              "        Timestamp  ...  Run Status\n",
              "0  1/4/2020 21:20  ...         NaN\n",
              "1  1/4/2020 21:20  ...         NaN\n",
              "2  1/4/2020 21:20  ...         NaN\n",
              "3  1/4/2020 21:20  ...         NaN\n",
              "4  1/4/2020 21:21  ...         NaN\n",
              "\n",
              "[5 rows x 9 columns]"
            ]
          },
          "metadata": {
            "tags": []
          },
          "execution_count": 7
        }
      ]
    },
    {
      "cell_type": "markdown",
      "metadata": {
        "id": "icyswJpSQ5DU",
        "colab_type": "text"
      },
      "source": [
        "Let's take a look at different properties of the dataset."
      ]
    },
    {
      "cell_type": "code",
      "metadata": {
        "id": "9JrmOgBJNxl-",
        "colab_type": "code",
        "outputId": "a3dc628f-f6fe-4e39-fc1e-8b317a61d436",
        "colab": {
          "base_uri": "https://localhost:8080/",
          "height": 35
        }
      },
      "source": [
        "# Shape of data\n",
        "df.shape"
      ],
      "execution_count": 0,
      "outputs": [
        {
          "output_type": "execute_result",
          "data": {
            "text/plain": [
              "(296450, 9)"
            ]
          },
          "metadata": {
            "tags": []
          },
          "execution_count": 8
        }
      ]
    },
    {
      "cell_type": "code",
      "metadata": {
        "id": "fCvQvvTYN6kR",
        "colab_type": "code",
        "outputId": "492d62f3-61fb-4436-8943-61f653afa9a4",
        "colab": {
          "base_uri": "https://localhost:8080/",
          "height": 88
        }
      },
      "source": [
        "# List of columns in dataset\n",
        "df.columns"
      ],
      "execution_count": 0,
      "outputs": [
        {
          "output_type": "execute_result",
          "data": {
            "text/plain": [
              "Index(['Timestamp', 'Suction Pressure (psig)', 'Suction Temperature (F)',\n",
              "       'Total Flow (gpm)', 'Speed (rpm)', 'By-pass Valve Position (%)',\n",
              "       'Discharge Pressure (psig)', 'Discharge Temperature (F)', 'Run Status'],\n",
              "      dtype='object')"
            ]
          },
          "metadata": {
            "tags": []
          },
          "execution_count": 9
        }
      ]
    },
    {
      "cell_type": "code",
      "metadata": {
        "id": "b92D8_HfN_eH",
        "colab_type": "code",
        "outputId": "cc7913cc-f50e-41ac-961a-0eda770e3876",
        "colab": {
          "base_uri": "https://localhost:8080/",
          "height": 265
        }
      },
      "source": [
        "# Getting information about data types of features in dataset\n",
        "df.info()"
      ],
      "execution_count": 0,
      "outputs": [
        {
          "output_type": "stream",
          "text": [
            "<class 'pandas.core.frame.DataFrame'>\n",
            "RangeIndex: 296450 entries, 0 to 296449\n",
            "Data columns (total 9 columns):\n",
            "Timestamp                     296450 non-null object\n",
            "Suction Pressure (psig)       296450 non-null float64\n",
            "Suction Temperature (F)       296450 non-null float64\n",
            "Total Flow (gpm)              296450 non-null float64\n",
            "Speed (rpm)                   296450 non-null float64\n",
            "By-pass Valve Position (%)    296450 non-null float64\n",
            "Discharge Pressure (psig)     296450 non-null float64\n",
            "Discharge Temperature (F)     296450 non-null float64\n",
            "Run Status                    0 non-null float64\n",
            "dtypes: float64(8), object(1)\n",
            "memory usage: 20.4+ MB\n"
          ],
          "name": "stdout"
        }
      ]
    },
    {
      "cell_type": "markdown",
      "metadata": {
        "id": "xqfVQzFgStVK",
        "colab_type": "text"
      },
      "source": [
        "Let's do a descriptive statistical analysis of the data."
      ]
    },
    {
      "cell_type": "code",
      "metadata": {
        "id": "LJZcOF0cORZT",
        "colab_type": "code",
        "outputId": "0675d6a1-371b-407d-86cd-ec938c625153",
        "colab": {
          "base_uri": "https://localhost:8080/",
          "height": 311
        }
      },
      "source": [
        "df.describe()"
      ],
      "execution_count": 0,
      "outputs": [
        {
          "output_type": "execute_result",
          "data": {
            "text/html": [
              "<div>\n",
              "<style scoped>\n",
              "    .dataframe tbody tr th:only-of-type {\n",
              "        vertical-align: middle;\n",
              "    }\n",
              "\n",
              "    .dataframe tbody tr th {\n",
              "        vertical-align: top;\n",
              "    }\n",
              "\n",
              "    .dataframe thead th {\n",
              "        text-align: right;\n",
              "    }\n",
              "</style>\n",
              "<table border=\"1\" class=\"dataframe\">\n",
              "  <thead>\n",
              "    <tr style=\"text-align: right;\">\n",
              "      <th></th>\n",
              "      <th>Suction Pressure (psig)</th>\n",
              "      <th>Suction Temperature (F)</th>\n",
              "      <th>Total Flow (gpm)</th>\n",
              "      <th>Speed (rpm)</th>\n",
              "      <th>By-pass Valve Position (%)</th>\n",
              "      <th>Discharge Pressure (psig)</th>\n",
              "      <th>Discharge Temperature (F)</th>\n",
              "      <th>Run Status</th>\n",
              "    </tr>\n",
              "  </thead>\n",
              "  <tbody>\n",
              "    <tr>\n",
              "      <th>count</th>\n",
              "      <td>296450.000000</td>\n",
              "      <td>296450.000000</td>\n",
              "      <td>296450.000000</td>\n",
              "      <td>296450.000000</td>\n",
              "      <td>296450.000000</td>\n",
              "      <td>296450.000000</td>\n",
              "      <td>296450.000000</td>\n",
              "      <td>0.0</td>\n",
              "    </tr>\n",
              "    <tr>\n",
              "      <th>mean</th>\n",
              "      <td>590.541350</td>\n",
              "      <td>-231.564934</td>\n",
              "      <td>8119.917777</td>\n",
              "      <td>2955.416695</td>\n",
              "      <td>2.005667</td>\n",
              "      <td>186.991087</td>\n",
              "      <td>-229.764934</td>\n",
              "      <td>NaN</td>\n",
              "    </tr>\n",
              "    <tr>\n",
              "      <th>std</th>\n",
              "      <td>23.216552</td>\n",
              "      <td>3.574107</td>\n",
              "      <td>398.049531</td>\n",
              "      <td>54.201467</td>\n",
              "      <td>2.488568</td>\n",
              "      <td>56.205183</td>\n",
              "      <td>3.574136</td>\n",
              "      <td>NaN</td>\n",
              "    </tr>\n",
              "    <tr>\n",
              "      <th>min</th>\n",
              "      <td>552.420048</td>\n",
              "      <td>-238.594971</td>\n",
              "      <td>7056.004500</td>\n",
              "      <td>2835.750571</td>\n",
              "      <td>-0.200000</td>\n",
              "      <td>69.983885</td>\n",
              "      <td>-236.816223</td>\n",
              "      <td>NaN</td>\n",
              "    </tr>\n",
              "    <tr>\n",
              "      <th>25%</th>\n",
              "      <td>572.757269</td>\n",
              "      <td>-234.171427</td>\n",
              "      <td>7916.322054</td>\n",
              "      <td>2906.336126</td>\n",
              "      <td>0.000000</td>\n",
              "      <td>143.468467</td>\n",
              "      <td>-232.371760</td>\n",
              "      <td>NaN</td>\n",
              "    </tr>\n",
              "    <tr>\n",
              "      <th>50%</th>\n",
              "      <td>586.491792</td>\n",
              "      <td>-230.922352</td>\n",
              "      <td>8144.161813</td>\n",
              "      <td>2961.788792</td>\n",
              "      <td>0.000000</td>\n",
              "      <td>183.270451</td>\n",
              "      <td>-229.122946</td>\n",
              "      <td>NaN</td>\n",
              "    </tr>\n",
              "    <tr>\n",
              "      <th>75%</th>\n",
              "      <td>605.986608</td>\n",
              "      <td>-229.585168</td>\n",
              "      <td>8388.610374</td>\n",
              "      <td>3000.863611</td>\n",
              "      <td>4.000000</td>\n",
              "      <td>223.580205</td>\n",
              "      <td>-227.785796</td>\n",
              "      <td>NaN</td>\n",
              "    </tr>\n",
              "    <tr>\n",
              "      <th>max</th>\n",
              "      <td>649.217417</td>\n",
              "      <td>-223.440125</td>\n",
              "      <td>8975.986378</td>\n",
              "      <td>3090.367995</td>\n",
              "      <td>8.026667</td>\n",
              "      <td>324.411576</td>\n",
              "      <td>-221.617102</td>\n",
              "      <td>NaN</td>\n",
              "    </tr>\n",
              "  </tbody>\n",
              "</table>\n",
              "</div>"
            ],
            "text/plain": [
              "       Suction Pressure (psig)  ...  Run Status\n",
              "count            296450.000000  ...         0.0\n",
              "mean                590.541350  ...         NaN\n",
              "std                  23.216552  ...         NaN\n",
              "min                 552.420048  ...         NaN\n",
              "25%                 572.757269  ...         NaN\n",
              "50%                 586.491792  ...         NaN\n",
              "75%                 605.986608  ...         NaN\n",
              "max                 649.217417  ...         NaN\n",
              "\n",
              "[8 rows x 8 columns]"
            ]
          },
          "metadata": {
            "tags": []
          },
          "execution_count": 11
        }
      ]
    },
    {
      "cell_type": "markdown",
      "metadata": {
        "id": "7fNGIuwPTksr",
        "colab_type": "text"
      },
      "source": [
        "Given data is a time series, but since we have to do the regression, the order of data does not matter. Second, the 'Run Status' column is empty. It is full of NaN values. Therefore, I am dropping both the 'Timestamp' and 'Run status' column."
      ]
    },
    {
      "cell_type": "code",
      "metadata": {
        "id": "lGqFTeF6OduO",
        "colab_type": "code",
        "colab": {}
      },
      "source": [
        "df.drop(columns=['Timestamp','Run Status'],inplace=True)"
      ],
      "execution_count": 0,
      "outputs": []
    },
    {
      "cell_type": "markdown",
      "metadata": {
        "id": "__9Ero1WTyff",
        "colab_type": "text"
      },
      "source": [
        "Let's check if there is any null value present in the dataset."
      ]
    },
    {
      "cell_type": "code",
      "metadata": {
        "id": "2SwXII3-PTL3",
        "colab_type": "code",
        "outputId": "28645059-57cf-4367-f0f3-971c1432219d",
        "colab": {
          "base_uri": "https://localhost:8080/",
          "height": 158
        }
      },
      "source": [
        "# No. of null values in each column\n",
        "df.isnull().sum()"
      ],
      "execution_count": 0,
      "outputs": [
        {
          "output_type": "execute_result",
          "data": {
            "text/plain": [
              "Suction Pressure (psig)       0\n",
              "Suction Temperature (F)       0\n",
              "Total Flow (gpm)              0\n",
              "Speed (rpm)                   0\n",
              "By-pass Valve Position (%)    0\n",
              "Discharge Pressure (psig)     0\n",
              "Discharge Temperature (F)     0\n",
              "dtype: int64"
            ]
          },
          "metadata": {
            "tags": []
          },
          "execution_count": 13
        }
      ]
    },
    {
      "cell_type": "markdown",
      "metadata": {
        "id": "LVmUPXROUSv5",
        "colab_type": "text"
      },
      "source": [
        "Since the data is little on the bigger side with about 296450 rows, it is better to check for redundancy (duplicate rows) in the dataset."
      ]
    },
    {
      "cell_type": "code",
      "metadata": {
        "id": "iyFBU9kRrfS2",
        "colab_type": "code",
        "outputId": "898938a0-37e4-4932-c584-a4eecfce8d16",
        "colab": {
          "base_uri": "https://localhost:8080/",
          "height": 52
        }
      },
      "source": [
        "# Looking for redundancy\n",
        "df.duplicated(keep='first').value_counts()"
      ],
      "execution_count": 0,
      "outputs": [
        {
          "output_type": "execute_result",
          "data": {
            "text/plain": [
              "False    296450\n",
              "dtype: int64"
            ]
          },
          "metadata": {
            "tags": []
          },
          "execution_count": 14
        }
      ]
    },
    {
      "cell_type": "markdown",
      "metadata": {
        "id": "FeRa3OqjUurI",
        "colab_type": "text"
      },
      "source": [
        "Now, I am plotting box plots to see if there are any outliers present in the dataset."
      ]
    },
    {
      "cell_type": "code",
      "metadata": {
        "id": "nAxn6JUfQSSB",
        "colab_type": "code",
        "outputId": "3c056a90-a47f-4fac-fb22-adb3307deab1",
        "colab": {
          "base_uri": "https://localhost:8080/",
          "height": 592
        }
      },
      "source": [
        "#looking for outliers\n",
        "for i in zip(range(1,8),df.columns):\n",
        "  plt.subplot(3,3,i[0])\n",
        "  df[i[1]].plot(kind='box',figsize=(20,10))\n",
        "plt.show()"
      ],
      "execution_count": 0,
      "outputs": [
        {
          "output_type": "display_data",
          "data": {
            "image/png": "[encoded data removed]",
            "text/plain": [
              "<Figure size 1440x720 with 7 Axes>"
            ]
          },
          "metadata": {
            "tags": []
          }
        }
      ]
    },
    {
      "cell_type": "markdown",
      "metadata": {
        "id": "8erXs-ZuVbAL",
        "colab_type": "text"
      },
      "source": [
        "'Total Flow (gpm)' column has outliers, but these are great in numbers. Removing these will profoundly affect our dataset. Therefore, I am keeping these outliers in the dataset so that we don't lose a large chunk of data. Now, let's see how each feature affects or correlated to the Discharge Pressure. For this, I am using heatmaps. Heatmaps are a great visualization tool that plots the color-coded correlation matrix of a dataset. I am using the seaborn library for this."
      ]
    },
    {
      "cell_type": "code",
      "metadata": {
        "id": "xrCAYNLnoT_Q",
        "colab_type": "code",
        "outputId": "164a5a8c-dff3-400b-87a5-cd49cc468813",
        "colab": {
          "base_uri": "https://localhost:8080/",
          "height": 808
        }
      },
      "source": [
        "#Checking correlation of features\n",
        "# calculate the correlation matrix\n",
        "corr = df.corr()\n",
        "#plotting heatmap\n",
        "fig, ax = plt.subplots(figsize=(10,10))\n",
        "sns.heatmap(corr, \n",
        "        xticklabels=corr.columns,\n",
        "        yticklabels=corr.columns,ax=ax)\n",
        "ax.set_xticklabels(ax.get_xticklabels(),rotation=45,horizontalalignment='right')"
      ],
      "execution_count": 0,
      "outputs": [
        {
          "output_type": "execute_result",
          "data": {
            "text/plain": [
              "[Text(0.5, 0, 'Suction Pressure (psig)'),\n",
              " Text(1.5, 0, 'Suction Temperature (F)'),\n",
              " Text(2.5, 0, 'Total Flow (gpm)'),\n",
              " Text(3.5, 0, 'Speed (rpm)'),\n",
              " Text(4.5, 0, 'By-pass Valve Position (%)'),\n",
              " Text(5.5, 0, 'Discharge Pressure (psig)'),\n",
              " Text(6.5, 0, 'Discharge Temperature (F)')]"
            ]
          },
          "metadata": {
            "tags": []
          },
          "execution_count": 29
        },
        {
          "output_type": "display_data",
          "data": {
            "image/png": "[encoded data removed]",
            "text/plain": [
              "<Figure size 720x720 with 2 Axes>"
            ]
          },
          "metadata": {
            "tags": []
          }
        }
      ]
    },
    {
      "cell_type": "markdown",
      "metadata": {
        "id": "Ht_uiB_VX8Mu",
        "colab_type": "text"
      },
      "source": [
        "From the heatmaps, it can be concluded that there is a strong positive correlation between Discharge Pressure, Suction Pressure, Suction temperature, and Discharge Temperature. There is also a negative correlation between Total Flow and Speed. All the features are correlated with the Discharge Pressure. Therefore we don't have to do any feature engineering. Creating new features can increase the complexity of the data, and it will require more sophisticated models for prediction."
      ]
    },
    {
      "cell_type": "markdown",
      "metadata": {
        "id": "J6On6kTYZAe1",
        "colab_type": "text"
      },
      "source": [
        "Now, I am separating predictor(X), and target(Y) features from the \n",
        "dataset."
      ]
    },
    {
      "cell_type": "code",
      "metadata": {
        "id": "BK4AxtluXfFY",
        "colab_type": "code",
        "outputId": "a7731316-7be7-4de6-db92-098f3134dac3",
        "colab": {
          "base_uri": "https://localhost:8080/",
          "height": 35
        }
      },
      "source": [
        "X=df.drop(columns=['Discharge Pressure (psig)']).values\n",
        "X.shape"
      ],
      "execution_count": 0,
      "outputs": [
        {
          "output_type": "execute_result",
          "data": {
            "text/plain": [
              "(296450, 6)"
            ]
          },
          "metadata": {
            "tags": []
          },
          "execution_count": 17
        }
      ]
    },
    {
      "cell_type": "code",
      "metadata": {
        "id": "PkNGV5ztbwHl",
        "colab_type": "code",
        "outputId": "4fdc35f9-cd7d-4431-805e-b7c5be02b780",
        "colab": {
          "base_uri": "https://localhost:8080/",
          "height": 35
        }
      },
      "source": [
        "Y=df['Discharge Pressure (psig)'].values\n",
        "Y.shape"
      ],
      "execution_count": 0,
      "outputs": [
        {
          "output_type": "execute_result",
          "data": {
            "text/plain": [
              "(296450,)"
            ]
          },
          "metadata": {
            "tags": []
          },
          "execution_count": 18
        }
      ]
    },
    {
      "cell_type": "code",
      "metadata": {
        "id": "GmKXTEoCb_kR",
        "colab_type": "code",
        "colab": {}
      },
      "source": [
        "# Setting value for random seed\n",
        "random.seed(42)"
      ],
      "execution_count": 0,
      "outputs": []
    },
    {
      "cell_type": "markdown",
      "metadata": {
        "id": "fcyNTHR3abjN",
        "colab_type": "text"
      },
      "source": [
        "I am splitting the dataset into training and test set. For this, I am using the train_test_split function of Sklearn. The training set has 80%, and the testing set has 20% of the data."
      ]
    },
    {
      "cell_type": "code",
      "metadata": {
        "id": "MkCAYDqbca3e",
        "colab_type": "code",
        "outputId": "895fff48-8cd0-4a90-d889-1ef33aea7050",
        "colab": {
          "base_uri": "https://localhost:8080/",
          "height": 35
        }
      },
      "source": [
        "X_train, X_test, Y_train, Y_test = train_test_split(X, Y, test_size=0.2, random_state=42)\n",
        "print(X_train.shape,X_test.shape,Y_train.shape,Y_test.shape)"
      ],
      "execution_count": 0,
      "outputs": [
        {
          "output_type": "stream",
          "text": [
            "(237160, 6) (59290, 6) (237160,) (59290,)\n"
          ],
          "name": "stdout"
        }
      ]
    },
    {
      "cell_type": "markdown",
      "metadata": {
        "id": "pbxL-iODatcU",
        "colab_type": "text"
      },
      "source": [
        "I am standardizing the data about mean and standard deviation using StandardScalar() from Sklearn."
      ]
    },
    {
      "cell_type": "code",
      "metadata": {
        "id": "5xVM6NS-y4Rv",
        "colab_type": "code",
        "colab": {}
      },
      "source": [
        "# Standardizing dataset\n",
        "sc=StandardScaler()\n",
        "X_train_scaled = sc.fit_transform(X_train)\n",
        "X_test_scaled = sc.transform (X_test)"
      ],
      "execution_count": 0,
      "outputs": []
    },
    {
      "cell_type": "markdown",
      "metadata": {
        "id": "QINXmkz5a4RF",
        "colab_type": "text"
      },
      "source": [
        "### **Modeling**\n",
        "Now, I am moving to the next phase of this data science project that is Modeling. In this phase, I am training and testing some models on the given dataset. Later, I am doing a comparative analysis of the results produced by each model. Let's start with the simplest model, i.e., Multiple Linear Regression."
      ]
    },
    {
      "cell_type": "markdown",
      "metadata": {
        "id": "e2t8pHbLsRfV",
        "colab_type": "text"
      },
      "source": [
        "#### **Multiple Linear Regression**\n",
        "In Multiple Linear Regression, we try to fit a linear function for the different features and predict the target variable."
      ]
    },
    {
      "cell_type": "code",
      "metadata": {
        "id": "sfXT4n4jsJxs",
        "colab_type": "code",
        "colab": {}
      },
      "source": [
        "# Importing Linear Regression\n",
        "from sklearn.linear_model import LinearRegression"
      ],
      "execution_count": 0,
      "outputs": []
    },
    {
      "cell_type": "code",
      "metadata": {
        "id": "40erLSvftYql",
        "colab_type": "code",
        "outputId": "dabed5f0-9f01-4f72-c4c3-374a54d0f369",
        "colab": {
          "base_uri": "https://localhost:8080/",
          "height": 35
        }
      },
      "source": [
        "# Training the model on the standardized dataset\n",
        "# For displaying time took\n",
        "start_time=time.time()\n",
        "lm=LinearRegression()\n",
        "lm.fit(X_train_scaled,Y_train)\n",
        "time_took = time.time() - start_time  \n",
        "print(f\"Total runtime: {hms_string(time_took)}\")"
      ],
      "execution_count": 0,
      "outputs": [
        {
          "output_type": "stream",
          "text": [
            "Total runtime: 0:00:00.06\n"
          ],
          "name": "stdout"
        }
      ]
    },
    {
      "cell_type": "code",
      "metadata": {
        "id": "4gI6Jzuht-eR",
        "colab_type": "code",
        "outputId": "ed7c60cf-1d54-4d93-b5c9-466e503ba73e",
        "colab": {
          "base_uri": "https://localhost:8080/",
          "height": 70
        }
      },
      "source": [
        "# Parameters of the trained model\n",
        "print('Slope=>',lm.coef_)\n",
        "print('Intercept=>',lm.intercept_)"
      ],
      "execution_count": 0,
      "outputs": [
        {
          "output_type": "stream",
          "text": [
            "Slope=> [ 21.05007271   3.68116229 -28.04750687  -3.49411707  12.341123\n",
            "  -0.25000145]\n",
            "Intercept=> 187.02991678089205\n"
          ],
          "name": "stdout"
        }
      ]
    },
    {
      "cell_type": "code",
      "metadata": {
        "id": "6qWFFsuhtlkM",
        "colab_type": "code",
        "colab": {}
      },
      "source": [
        "# Getting predictions on the standardized test set\n",
        "lm_pred=lm.predict(X_test_scaled)"
      ],
      "execution_count": 0,
      "outputs": []
    },
    {
      "cell_type": "code",
      "metadata": {
        "id": "gKE9zvShuPbd",
        "colab_type": "code",
        "outputId": "5b0feed1-c5b0-429c-b076-57729151099c",
        "colab": {
          "base_uri": "https://localhost:8080/",
          "height": 35
        }
      },
      "source": [
        "# Calculating RMSE of the model on the test set\n",
        "print('RMSE for Multiple Linear Regression=>',np.sqrt(mean_squared_error(Y_test,lm_pred)))"
      ],
      "execution_count": 0,
      "outputs": [
        {
          "output_type": "stream",
          "text": [
            "RMSE for Multiple Linear Regression=> 2.4545057206601055\n"
          ],
          "name": "stdout"
        }
      ]
    },
    {
      "cell_type": "markdown",
      "metadata": {
        "id": "4jm6TDneunKO",
        "colab_type": "text"
      },
      "source": [
        "#### **Multi-Dimensional Polynomial Regression**\n",
        "Sometimes, linear functions are not able to fit the data correctly; therefore, now we are trying to use a polynomial function. In Multi-Dimensional Polynomial Regression, we try to fit a polynomial function for the different features and predict the target variable."
      ]
    },
    {
      "cell_type": "code",
      "metadata": {
        "id": "x3LZ2cIxwrre",
        "colab_type": "code",
        "colab": {}
      },
      "source": [
        "# Importing required objects for Multi-Dimensional Polynomial Regression\n",
        "from sklearn.preprocessing import PolynomialFeatures\n",
        "from sklearn.pipeline import Pipeline"
      ],
      "execution_count": 0,
      "outputs": []
    },
    {
      "cell_type": "markdown",
      "metadata": {
        "id": "RFKAKzaKfsXy",
        "colab_type": "text"
      },
      "source": [
        "Here, I have created a function poly_deg, which takes a degree as input for polynomial function and creates a pipeline for it. It performs 5-fold cross-validation, and returns mean RMSE for the model."
      ]
    },
    {
      "cell_type": "code",
      "metadata": {
        "id": "Gqm8kS82vG87",
        "colab_type": "code",
        "colab": {}
      },
      "source": [
        "def poly_reg(deg):\n",
        "  # For bootstrapping and 5-fold cross validation\n",
        "  boot=ShuffleSplit(n_splits=5,test_size=0.2,random_state=42)\n",
        "  # Tracking score\n",
        "  mean_rmse=[]\n",
        "  num=0\n",
        "\n",
        "  #Looping through samples\n",
        "  for train,test in boot.split(X):\n",
        "    num+=1\n",
        "\n",
        "    #Split train and test\n",
        "    stdScaler=StandardScaler()\n",
        "    x_train=stdScaler.fit_transform(X[train])\n",
        "    y_train=Y[train]\n",
        "    x_test=stdScaler.transform(X[test])\n",
        "    y_test=Y[test]\n",
        "\n",
        "    #constructing model and training\n",
        "    Input=[('polynomial',PolynomialFeatures(degree=int(deg))),('modal',LinearRegression())]\n",
        "    pipe=Pipeline(Input)\n",
        "    pipe.fit(x_train,y_train)\n",
        "    p_pred=pipe.predict(x_test)\n",
        "    #evaluating\n",
        "    score=np.sqrt(mean_squared_error(y_test,p_pred))\n",
        "    mean_rmse.append(score)\n",
        "  \n",
        "  return statistics.mean(mean_rmse)"
      ],
      "execution_count": 0,
      "outputs": []
    },
    {
      "cell_type": "code",
      "metadata": {
        "id": "gNml90OA9vkq",
        "colab_type": "code",
        "outputId": "6fbf497b-15a8-48ee-e5ae-00578a09ae25",
        "colab": {
          "base_uri": "https://localhost:8080/",
          "height": 141
        }
      },
      "source": [
        "# Iterating through 1 to 7 and checking RMSE for model\n",
        "for i in range(1,8):\n",
        "  print('RMSE=>',poly_reg(i),', Degree=>',i)"
      ],
      "execution_count": 0,
      "outputs": [
        {
          "output_type": "stream",
          "text": [
            "RMSE=> 2.4562039416061823 , Degree=> 1\n",
            "RMSE=> 1.225577111599554 , Degree=> 2\n",
            "RMSE=> 1.2236481554692085 , Degree=> 3\n",
            "RMSE=> 1.2222101112752695 , Degree=> 4\n",
            "RMSE=> 1.221169792837067 , Degree=> 5\n",
            "RMSE=> 1.2198157049713059 , Degree=> 6\n",
            "RMSE=> 1.2216676124608152 , Degree=> 7\n"
          ],
          "name": "stdout"
        }
      ]
    },
    {
      "cell_type": "markdown",
      "metadata": {
        "id": "A9PZh0arhUJX",
        "colab_type": "text"
      },
      "source": [
        "As we can see, Polynomial Function with degree=6 fits the data pretty well with RMSE of 1.2198157049713059. Let's train a model with the best degree polynomial and check its prediction power on our testing set."
      ]
    },
    {
      "cell_type": "code",
      "metadata": {
        "id": "yc0TIJuNDBis",
        "colab_type": "code",
        "outputId": "4025f5cc-bba7-4da0-f1fe-1dbf7bd9f49c",
        "colab": {
          "base_uri": "https://localhost:8080/",
          "height": 52
        }
      },
      "source": [
        "# Training with best degree polynomial\n",
        "Input=[('polynomial',PolynomialFeatures(degree=6)),('modal',LinearRegression())]\n",
        "pipe=Pipeline(Input)\n",
        "start_time=time.time()\n",
        "pipe.fit(X_train_scaled,Y_train)\n",
        "p_pred=pipe.predict(X_test_scaled)\n",
        "#evaluating\n",
        "time_took = time.time() - start_time  \n",
        "print(f\"Total runtime: {hms_string(time_took)}\")\n",
        "print('RMSE=>',np.sqrt(mean_squared_error(Y_test,p_pred)))"
      ],
      "execution_count": 0,
      "outputs": [
        {
          "output_type": "stream",
          "text": [
            "Total runtime: 0:00:20.92\n",
            "RMSE=> 1.2163359424484355\n"
          ],
          "name": "stdout"
        }
      ]
    },
    {
      "cell_type": "markdown",
      "metadata": {
        "id": "5ZlLI_u3GqDm",
        "colab_type": "text"
      },
      "source": [
        "#### **XGBoost Regressor**\n",
        "Now, let's move on to tree-based regressor XGBoost to see if we can improve our RMSE with a different type of approach. XGBoost (Extreme Gradient Boosting) belongs to a family of boosting algorithms and uses the gradient boosting (GBM) framework at its core. It makes use of tree ensembles and makes predictions."
      ]
    },
    {
      "cell_type": "code",
      "metadata": {
        "id": "lbdl2PhFHDCL",
        "colab_type": "code",
        "colab": {}
      },
      "source": [
        "# Import XGBoost\n",
        "import xgboost as xgb"
      ],
      "execution_count": 0,
      "outputs": []
    },
    {
      "cell_type": "markdown",
      "metadata": {
        "id": "J6ES6X82iTLY",
        "colab_type": "text"
      },
      "source": [
        "First, we need to prepare data for the XGBoost algorithm. It takes data in the form of an optimized data structure called Dmatrix. It does not require the data to be standardized. Therefore, we are passing original data through DMatrix()."
      ]
    },
    {
      "cell_type": "code",
      "metadata": {
        "id": "4tJQNnrNHakU",
        "colab_type": "code",
        "colab": {}
      },
      "source": [
        "data_dmatrix = xgb.DMatrix(data=X,label=Y)"
      ],
      "execution_count": 0,
      "outputs": []
    },
    {
      "cell_type": "markdown",
      "metadata": {
        "id": "MYTWg1zonoOI",
        "colab_type": "text"
      },
      "source": [
        "I have created a function xgb_reg, which takes learning rate and max depth as input. It performs 5-fold cross-validation on XGB Regressor and returns RMSE for each set of parameters."
      ]
    },
    {
      "cell_type": "code",
      "metadata": {
        "id": "ZzdAyTS1INc2",
        "colab_type": "code",
        "colab": {}
      },
      "source": [
        "def xgb_reg(learning_rate,max_depth):\n",
        "  params={\"objective\":\"reg:squarederror\",\"learning_rate\":learning_rate,\"max_depth\":int(max_depth)}\n",
        "  cv_results=xgb.cv(params=params,dtrain=data_dmatrix,num_boost_round=50,nfold=5,early_stopping_rounds=10,metrics=\"rmse\",seed=42)\n",
        "  return -(cv_results['test-rmse-mean'].min())"
      ],
      "execution_count": 0,
      "outputs": []
    },
    {
      "cell_type": "markdown",
      "metadata": {
        "id": "3MkSQDRKoHgl",
        "colab_type": "text"
      },
      "source": [
        "Now, I am using Bayesian optimization to tune the hyperparameters of XGB Regressor. The optimizer returns the best parameters for the model."
      ]
    },
    {
      "cell_type": "code",
      "metadata": {
        "id": "Lesl33yVLmQe",
        "colab_type": "code",
        "outputId": "ddd0a8ba-9ca5-4939-be6b-e415f980be7b",
        "colab": {
          "base_uri": "https://localhost:8080/",
          "height": 813
        }
      },
      "source": [
        "# Using Bayesian Optimization for hyperparameter tuning of xgb regressor\n",
        "pspace={\n",
        "    'learning_rate':(0.001,0.3),\n",
        "    'max_depth':(3,15)\n",
        "}\n",
        "#Running optimizer\n",
        "optimizer=BayesianOptimization(f=xgb_reg,pbounds=pspace,random_state=42,verbose=2)\n",
        "start_time = time.time()\n",
        "optimizer.maximize(init_points=10,n_iter=30)\n",
        "time_took = time.time() - start_time\n",
        "  \n",
        "print(f\"Total runtime: {hms_string(time_took)}\")\n",
        "print(optimizer.max)"
      ],
      "execution_count": 0,
      "outputs": [
        {
          "output_type": "stream",
          "text": [
            "|   iter    |  target   | learni... | max_depth |\n",
            "-------------------------------------------------\n",
            "| \u001b[0m 1       \u001b[0m | \u001b[0m-1.398   \u001b[0m | \u001b[0m 0.113   \u001b[0m | \u001b[0m 14.41   \u001b[0m |\n",
            "| \u001b[95m 2       \u001b[0m | \u001b[95m-1.344   \u001b[0m | \u001b[95m 0.2199  \u001b[0m | \u001b[95m 10.18   \u001b[0m |\n",
            "| \u001b[0m 3       \u001b[0m | \u001b[0m-17.42   \u001b[0m | \u001b[0m 0.04765 \u001b[0m | \u001b[0m 4.872   \u001b[0m |\n",
            "| \u001b[0m 4       \u001b[0m | \u001b[0m-77.17   \u001b[0m | \u001b[0m 0.01837 \u001b[0m | \u001b[0m 13.39   \u001b[0m |\n",
            "| \u001b[95m 5       \u001b[0m | \u001b[95m-1.323   \u001b[0m | \u001b[95m 0.1807  \u001b[0m | \u001b[95m 11.5    \u001b[0m |\n",
            "| \u001b[0m 6       \u001b[0m | \u001b[0m-136.1   \u001b[0m | \u001b[0m 0.007155\u001b[0m | \u001b[0m 14.64   \u001b[0m |\n",
            "| \u001b[0m 7       \u001b[0m | \u001b[0m-1.662   \u001b[0m | \u001b[0m 0.2499  \u001b[0m | \u001b[0m 5.548   \u001b[0m |\n",
            "| \u001b[0m 8       \u001b[0m | \u001b[0m-11.62   \u001b[0m | \u001b[0m 0.05537 \u001b[0m | \u001b[0m 5.201   \u001b[0m |\n",
            "| \u001b[0m 9       \u001b[0m | \u001b[0m-2.082   \u001b[0m | \u001b[0m 0.09197 \u001b[0m | \u001b[0m 9.297   \u001b[0m |\n",
            "| \u001b[0m 10      \u001b[0m | \u001b[0m-1.533   \u001b[0m | \u001b[0m 0.1302  \u001b[0m | \u001b[0m 6.495   \u001b[0m |\n",
            "| \u001b[0m 11      \u001b[0m | \u001b[0m-2.541   \u001b[0m | \u001b[0m 0.1929  \u001b[0m | \u001b[0m 3.767   \u001b[0m |\n",
            "| \u001b[0m 12      \u001b[0m | \u001b[0m-2.804   \u001b[0m | \u001b[0m 0.1415  \u001b[0m | \u001b[0m 3.168   \u001b[0m |\n",
            "| \u001b[0m 13      \u001b[0m | \u001b[0m-50.45   \u001b[0m | \u001b[0m 0.0267  \u001b[0m | \u001b[0m 6.203   \u001b[0m |\n",
            "| \u001b[0m 14      \u001b[0m | \u001b[0m-2.178   \u001b[0m | \u001b[0m 0.09091 \u001b[0m | \u001b[0m 8.739   \u001b[0m |\n",
            "| \u001b[0m 15      \u001b[0m | \u001b[0m-11.61   \u001b[0m | \u001b[0m 0.05519 \u001b[0m | \u001b[0m 6.014   \u001b[0m |\n",
            "| \u001b[0m 16      \u001b[0m | \u001b[0m-4.944   \u001b[0m | \u001b[0m 0.07294 \u001b[0m | \u001b[0m 5.424   \u001b[0m |\n",
            "| \u001b[0m 17      \u001b[0m | \u001b[0m-1.417   \u001b[0m | \u001b[0m 0.2205  \u001b[0m | \u001b[0m 7.321   \u001b[0m |\n",
            "| \u001b[0m 18      \u001b[0m | \u001b[0m-1.339   \u001b[0m | \u001b[0m 0.1298  \u001b[0m | \u001b[0m 9.04    \u001b[0m |\n",
            "| \u001b[0m 19      \u001b[0m | \u001b[0m-28.46   \u001b[0m | \u001b[0m 0.03781 \u001b[0m | \u001b[0m 13.18   \u001b[0m |\n",
            "| \u001b[0m 20      \u001b[0m | \u001b[0m-1.406   \u001b[0m | \u001b[0m 0.1517  \u001b[0m | \u001b[0m 7.042   \u001b[0m |\n",
            "| \u001b[0m 21      \u001b[0m | \u001b[0m-44.48   \u001b[0m | \u001b[0m 0.02919 \u001b[0m | \u001b[0m 5.62    \u001b[0m |\n",
            "| \u001b[0m 22      \u001b[0m | \u001b[0m-2.372   \u001b[0m | \u001b[0m 0.2803  \u001b[0m | \u001b[0m 3.865   \u001b[0m |\n",
            "| \u001b[0m 23      \u001b[0m | \u001b[0m-1.369   \u001b[0m | \u001b[0m 0.1164  \u001b[0m | \u001b[0m 14.4    \u001b[0m |\n",
            "| \u001b[0m 24      \u001b[0m | \u001b[0m-1.341   \u001b[0m | \u001b[0m 0.1216  \u001b[0m | \u001b[0m 14.41   \u001b[0m |\n",
            "| \u001b[0m 25      \u001b[0m | \u001b[0m-1.325   \u001b[0m | \u001b[0m 0.1866  \u001b[0m | \u001b[0m 11.49   \u001b[0m |\n",
            "| \u001b[95m 26      \u001b[0m | \u001b[95m-1.32    \u001b[0m | \u001b[95m 0.1782  \u001b[0m | \u001b[95m 11.49   \u001b[0m |\n",
            "| \u001b[0m 27      \u001b[0m | \u001b[0m-1.343   \u001b[0m | \u001b[0m 0.128   \u001b[0m | \u001b[0m 9.048   \u001b[0m |\n",
            "| \u001b[0m 28      \u001b[0m | \u001b[0m-1.369   \u001b[0m | \u001b[0m 0.12    \u001b[0m | \u001b[0m 9.042   \u001b[0m |\n",
            "| \u001b[0m 29      \u001b[0m | \u001b[0m-1.343   \u001b[0m | \u001b[0m 0.2193  \u001b[0m | \u001b[0m 10.17   \u001b[0m |\n",
            "| \u001b[0m 30      \u001b[0m | \u001b[0m-1.339   \u001b[0m | \u001b[0m 0.2097  \u001b[0m | \u001b[0m 10.18   \u001b[0m |\n",
            "| \u001b[0m 31      \u001b[0m | \u001b[0m-1.404   \u001b[0m | \u001b[0m 0.1543  \u001b[0m | \u001b[0m 7.052   \u001b[0m |\n",
            "| \u001b[0m 32      \u001b[0m | \u001b[0m-1.4     \u001b[0m | \u001b[0m 0.1636  \u001b[0m | \u001b[0m 7.044   \u001b[0m |\n",
            "| \u001b[0m 33      \u001b[0m | \u001b[0m-1.418   \u001b[0m | \u001b[0m 0.2178  \u001b[0m | \u001b[0m 7.31    \u001b[0m |\n",
            "| \u001b[0m 34      \u001b[0m | \u001b[0m-1.42    \u001b[0m | \u001b[0m 0.2308  \u001b[0m | \u001b[0m 7.313   \u001b[0m |\n",
            "| \u001b[0m 35      \u001b[0m | \u001b[0m-2.377   \u001b[0m | \u001b[0m 0.2518  \u001b[0m | \u001b[0m 3.833   \u001b[0m |\n",
            "| \u001b[0m 36      \u001b[0m | \u001b[0m-1.523   \u001b[0m | \u001b[0m 0.1346  \u001b[0m | \u001b[0m 6.507   \u001b[0m |\n",
            "| \u001b[0m 37      \u001b[0m | \u001b[0m-1.506   \u001b[0m | \u001b[0m 0.1452  \u001b[0m | \u001b[0m 6.497   \u001b[0m |\n",
            "| \u001b[0m 38      \u001b[0m | \u001b[0m-1.653   \u001b[0m | \u001b[0m 0.2617  \u001b[0m | \u001b[0m 5.537   \u001b[0m |\n",
            "| \u001b[0m 39      \u001b[0m | \u001b[0m-1.659   \u001b[0m | \u001b[0m 0.2661  \u001b[0m | \u001b[0m 5.553   \u001b[0m |\n",
            "| \u001b[0m 40      \u001b[0m | \u001b[0m-1.342   \u001b[0m | \u001b[0m 0.2156  \u001b[0m | \u001b[0m 10.18   \u001b[0m |\n",
            "=================================================\n",
            "Total runtime: 0:33:01.16\n",
            "{'target': -1.3204098, 'params': {'learning_rate': 0.17817664228875718, 'max_depth': 11.488134988614876}}\n"
          ],
          "name": "stdout"
        }
      ]
    },
    {
      "cell_type": "markdown",
      "metadata": {
        "id": "JZC-KIvHpH_K",
        "colab_type": "text"
      },
      "source": [
        "Now, I am training an XGB Regressor on the best parameters returned by the Bayesian optimizer. Then, I am evaluating it on the testing dataset."
      ]
    },
    {
      "cell_type": "code",
      "metadata": {
        "id": "5kJI9_3fOzc9",
        "colab_type": "code",
        "outputId": "4ebcf861-b8b3-4bf8-9a79-c40a97bc3159",
        "colab": {
          "base_uri": "https://localhost:8080/",
          "height": 52
        }
      },
      "source": [
        "start_time=time.time()\n",
        "xg_reg=xgb.XGBRegressor(objective=\"reg:squarederror\",learning_rate=0.178,max_depth=11)\n",
        "xg_reg.fit(X_train,Y_train)\n",
        "xgb_pred = xg_reg.predict(X_test)\n",
        "#evaluating\n",
        "time_took = time.time() - start_time  \n",
        "print(f\"Total runtime: {hms_string(time_took)}\")\n",
        "print('RMSE=>',np.sqrt(mean_squared_error(Y_test,xgb_pred)))"
      ],
      "execution_count": 0,
      "outputs": [
        {
          "output_type": "stream",
          "text": [
            "Total runtime: 0:00:49.00\n",
            "RMSE=> 1.3080269271208989\n"
          ],
          "name": "stdout"
        }
      ]
    },
    {
      "cell_type": "markdown",
      "metadata": {
        "colab_type": "text",
        "id": "7y0XEIZwTD9C"
      },
      "source": [
        "#### **Multi-Layer Perceptron**\n",
        "Finally, let's move on to neural networks. I have tried to keep it simple. Therefore, I am using Multi-Layer Perceptron with few layers only. I have created a function generate_model which takes dropout value, no. of layers, neuron count for 1st layer and shrink percentage( the value by which the no. of neurons gets reduced with each successive layer). This function generates the model using Keras and returns it."
      ]
    },
    {
      "cell_type": "code",
      "metadata": {
        "id": "IIBfCw8WJZbi",
        "colab_type": "code",
        "colab": {}
      },
      "source": [
        "# Function for generating model\n",
        "def generate_model(dropout, layers,neuronCount,shrinkPercentage):\n",
        "  #adding sequential layer\n",
        "  model=Sequential()\n",
        "  layer=0\n",
        "  while neuronCount>6 and layer<layers:\n",
        "    if layer==0:\n",
        "      #Creating 1st layer\n",
        "      model.add(Dense(neuronCount,input_dim=6,activation='relu'))\n",
        "    else:\n",
        "      #adding other layers\n",
        "      model.add(Dense(neuronCount,activation='relu'))\n",
        "    layer+=1\n",
        "    model.add(Dropout(dropout))\n",
        "    #Setting no. of neuron for next layer\n",
        "    neuronCount=int(neuronCount*(1-shrinkPercentage))\n",
        "  #adding last layer\n",
        "  model.add(Dense(1))\n",
        "  #Returning the model\n",
        "  return model"
      ],
      "execution_count": 0,
      "outputs": []
    },
    {
      "cell_type": "markdown",
      "metadata": {
        "id": "CvceBh95re6O",
        "colab_type": "text"
      },
      "source": [
        "I have also created a function evaluate_neural_network which takes parameters similar to generate_model function with additional parameters such as batch size, and learning rate. This function calls the generate_model function to create the model. It performs the 2-fold cross-validation on the model and returns the negative of the RMSE. This function returns negative of RMSE because we have to reduce it."
      ]
    },
    {
      "cell_type": "code",
      "metadata": {
        "id": "7CeCvYH9QJrg",
        "colab_type": "code",
        "colab": {}
      },
      "source": [
        "# Function for evaluating model\n",
        "def evaluate_neural_network(dropout, layers, batchSize,neuronCount,shrinkPercentage,lr):\n",
        "  SPLITS = 2\n",
        "  \n",
        "  # Bootstrap\n",
        "  boot = ShuffleSplit(n_splits=SPLITS, test_size=0.2)\n",
        "  \n",
        "  # Track progress\n",
        "  mean_benchmark = []\n",
        "  epochs_needed = []\n",
        "  num = 0\n",
        "\n",
        "  # Loop through samples\n",
        "  for train, test in boot.split(X):\n",
        "    start_time = time.time()\n",
        "    num+=1\n",
        "\n",
        "    #Split train and test\n",
        "    stdScaler=StandardScaler()\n",
        "    x_train=stdScaler.fit_transform(X[train])\n",
        "    y_train=Y[train]\n",
        "    x_test=stdScaler.transform(X[test])\n",
        "    y_test=Y[test]\n",
        "    #Generating model\n",
        "    model=generate_model(dropout, layers,int(neuronCount),shrinkPercentage)\n",
        "    #Compiling model\n",
        "    model.compile(loss='mean_squared_error',optimizer=Adam(learning_rate=lr))\n",
        "    # Setting monitor for early stopping\n",
        "    monitor=EarlyStopping(monitor='val_loss',min_delta=1e-5,patience=25,verbose=0,mode='auto',restore_best_weights=True)\n",
        "    #Training\n",
        "    model.fit(x_train,y_train,batch_size=int(batchSize),validation_data=(x_test,y_test),callbacks=[monitor],verbose=0,epochs=100)\n",
        "    #Validating\n",
        "    pred=model.predict(x_test)\n",
        "    #Evaluating on RMSE\n",
        "    score=np.sqrt(mean_squared_error(y_test,pred))\n",
        "    mean_benchmark.append(score)\n",
        "    # Taking mean RMSE of 2-folds\n",
        "    m1 = statistics.mean(mean_benchmark)\n",
        "  \n",
        "  #Clearing session\n",
        "  tensorflow.keras.backend.clear_session()\n",
        "  return(-m1)"
      ],
      "execution_count": 0,
      "outputs": []
    },
    {
      "cell_type": "markdown",
      "metadata": {
        "id": "B1Kxk0fPrvoC",
        "colab_type": "text"
      },
      "source": [
        "Here, I am using Bayesian optimization to tune the hyperparameters of Multi-Layer Perceptron. The optimizer returns the best parameters for the model."
      ]
    },
    {
      "cell_type": "code",
      "metadata": {
        "id": "Zi7FLVfq3Y85",
        "colab_type": "code",
        "outputId": "eaae8e81-0c68-4e5a-f750-bf3eb89b3757",
        "colab": {
          "base_uri": "https://localhost:8080/",
          "height": 55
        }
      },
      "source": [
        "# Bounding region for parameter space\n",
        "  pspace={\n",
        "      'dropout':(0.1,0.3),\n",
        "      'layers':(2,7),\n",
        "      'batchSize':(200,2000),\n",
        "      'neuronCount':(200,2048),\n",
        "      'shrinkPercentage':(0.1,0.9),\n",
        "      'lr':(0.001,0.2)\n",
        "  }\n",
        "  #Running optimizer\n",
        "  optimizer=BayesianOptimization(f=evaluate_neural_network,pbounds=pspace,random_state=42,verbose=0)\n",
        "  optimizer.maximize(init_points=10, n_iter=70,)\n",
        "  print(optimizer.max)"
      ],
      "execution_count": 0,
      "outputs": [
        {
          "output_type": "stream",
          "text": [
            "{'target': -1.893814596423903, 'params': {'batchSize': 256.77401084167416608 ,'dropout': 0.19871198428037775, 'lr': 0.00199884168713823,'layers': 3.08416411119650065, 'neuronCount': 200.25107746556382315, 'shrinkPercentage': 0.2484788676498257}}\n"
          ],
          "name": "stdout"
        }
      ]
    },
    {
      "cell_type": "markdown",
      "metadata": {
        "id": "yaqJodz8sHjM",
        "colab_type": "text"
      },
      "source": [
        "Now, I am generating a multi-layer perceptron with the hyper-parameters returned by Bayesian optimizer."
      ]
    },
    {
      "cell_type": "code",
      "metadata": {
        "id": "RMl4EUmEtVn5",
        "colab_type": "code",
        "outputId": "c75a28a5-a82c-4c70-c904-df42a714885b",
        "colab": {
          "base_uri": "https://localhost:8080/",
          "height": 406
        }
      },
      "source": [
        "model=generate_model(0.2,3,200,0.25)\n",
        "model.summary()"
      ],
      "execution_count": 0,
      "outputs": [
        {
          "output_type": "stream",
          "text": [
            "Model: \"sequential_6\"\n",
            "_________________________________________________________________\n",
            "Layer (type)                 Output Shape              Param #   \n",
            "=================================================================\n",
            "dense_24 (Dense)             (None, 200)               1400      \n",
            "_________________________________________________________________\n",
            "dropout_18 (Dropout)         (None, 200)               0         \n",
            "_________________________________________________________________\n",
            "dense_25 (Dense)             (None, 150)               30150     \n",
            "_________________________________________________________________\n",
            "dropout_19 (Dropout)         (None, 150)               0         \n",
            "_________________________________________________________________\n",
            "dense_26 (Dense)             (None, 112)               16912     \n",
            "_________________________________________________________________\n",
            "dropout_20 (Dropout)         (None, 112)               0         \n",
            "_________________________________________________________________\n",
            "dense_27 (Dense)             (None, 1)                 113       \n",
            "=================================================================\n",
            "Total params: 48,575\n",
            "Trainable params: 48,575\n",
            "Non-trainable params: 0\n",
            "_________________________________________________________________\n"
          ],
          "name": "stdout"
        }
      ]
    },
    {
      "cell_type": "code",
      "metadata": {
        "id": "pPkJ7YB5tz5N",
        "colab_type": "code",
        "colab": {}
      },
      "source": [
        "# Compiling model and initializing a early stopping monitor\n",
        "model.compile(loss='mean_squared_error',optimizer=Adam(0.002))\n",
        "monitor=EarlyStopping(monitor='val_loss',min_delta=1e-5,patience=25,verbose=1,mode='auto',restore_best_weights=True)"
      ],
      "execution_count": 0,
      "outputs": []
    },
    {
      "cell_type": "markdown",
      "metadata": {
        "id": "ZQU0op7_tI99",
        "colab_type": "text"
      },
      "source": [
        "Here, I am training the model on the standardized dataset because neural networks perform better when data is about 0."
      ]
    },
    {
      "cell_type": "code",
      "metadata": {
        "id": "kT4y2xsdt2Lb",
        "colab_type": "code",
        "outputId": "53d4c7f4-5041-4095-ca32-583b91bd2627",
        "colab": {
          "base_uri": "https://localhost:8080/",
          "height": 1000
        }
      },
      "source": [
        "# Training the model\n",
        "hist=model.fit(X_train_scaled,Y_train,batch_size=256,epochs=1000,callbacks=[monitor],validation_data=(X_test_scaled,Y_test))"
      ],
      "execution_count": 0,
      "outputs": [
        {
          "output_type": "stream",
          "text": [
            "Train on 237160 samples, validate on 59290 samples\n",
            "Epoch 1/1000\n",
            "237160/237160 [==============================] - 3s 12us/sample - loss: 1325.8797 - val_loss: 10.1971\n",
            "Epoch 2/1000\n",
            "237160/237160 [==============================] - 3s 11us/sample - loss: 272.2406 - val_loss: 10.2411\n",
            "Epoch 3/1000\n",
            "237160/237160 [==============================] - 2s 10us/sample - loss: 256.4016 - val_loss: 54.5067\n",
            "Epoch 4/1000\n",
            "237160/237160 [==============================] - 2s 10us/sample - loss: 241.3825 - val_loss: 2.6985\n",
            "Epoch 5/1000\n",
            "237160/237160 [==============================] - 2s 10us/sample - loss: 230.6207 - val_loss: 19.1471\n",
            "Epoch 6/1000\n",
            "237160/237160 [==============================] - 2s 10us/sample - loss: 220.5642 - val_loss: 7.0579\n",
            "Epoch 7/1000\n",
            "237160/237160 [==============================] - 2s 10us/sample - loss: 210.9531 - val_loss: 6.4511\n",
            "Epoch 8/1000\n",
            "237160/237160 [==============================] - 3s 11us/sample - loss: 201.6510 - val_loss: 13.4314\n",
            "Epoch 9/1000\n",
            "237160/237160 [==============================] - 3s 11us/sample - loss: 189.9774 - val_loss: 13.7325\n",
            "Epoch 10/1000\n",
            "237160/237160 [==============================] - 2s 10us/sample - loss: 180.5408 - val_loss: 6.4666\n",
            "Epoch 11/1000\n",
            "237160/237160 [==============================] - 2s 10us/sample - loss: 172.9160 - val_loss: 5.9546\n",
            "Epoch 12/1000\n",
            "237160/237160 [==============================] - 2s 10us/sample - loss: 163.3116 - val_loss: 15.2856\n",
            "Epoch 13/1000\n",
            "237160/237160 [==============================] - 2s 10us/sample - loss: 154.1688 - val_loss: 14.2845\n",
            "Epoch 14/1000\n",
            "237160/237160 [==============================] - 2s 11us/sample - loss: 149.0152 - val_loss: 34.7223\n",
            "Epoch 15/1000\n",
            "237160/237160 [==============================] - 2s 10us/sample - loss: 145.4836 - val_loss: 22.0471\n",
            "Epoch 16/1000\n",
            "237160/237160 [==============================] - 2s 10us/sample - loss: 142.3787 - val_loss: 38.3435\n",
            "Epoch 17/1000\n",
            "237160/237160 [==============================] - 2s 10us/sample - loss: 140.9909 - val_loss: 53.6556\n",
            "Epoch 18/1000\n",
            "237160/237160 [==============================] - 2s 10us/sample - loss: 139.9110 - val_loss: 66.2047\n",
            "Epoch 19/1000\n",
            "237160/237160 [==============================] - 2s 10us/sample - loss: 137.5460 - val_loss: 65.6035\n",
            "Epoch 20/1000\n",
            "237160/237160 [==============================] - 3s 11us/sample - loss: 136.5647 - val_loss: 76.7676\n",
            "Epoch 21/1000\n",
            "237160/237160 [==============================] - 3s 11us/sample - loss: 135.3151 - val_loss: 100.1849\n",
            "Epoch 22/1000\n",
            "237160/237160 [==============================] - 2s 10us/sample - loss: 132.8027 - val_loss: 74.8932\n",
            "Epoch 23/1000\n",
            "237160/237160 [==============================] - 2s 10us/sample - loss: 132.6672 - val_loss: 97.7386\n",
            "Epoch 24/1000\n",
            "237160/237160 [==============================] - 2s 10us/sample - loss: 132.1627 - val_loss: 98.6541\n",
            "Epoch 25/1000\n",
            "237160/237160 [==============================] - 3s 11us/sample - loss: 130.8287 - val_loss: 110.2007\n",
            "Epoch 26/1000\n",
            "237160/237160 [==============================] - 3s 11us/sample - loss: 129.1036 - val_loss: 106.9387\n",
            "Epoch 27/1000\n",
            "237160/237160 [==============================] - 2s 10us/sample - loss: 128.7149 - val_loss: 115.1844\n",
            "Epoch 28/1000\n",
            "237160/237160 [==============================] - 2s 10us/sample - loss: 125.8364 - val_loss: 118.8378\n",
            "Epoch 29/1000\n",
            "235776/237160 [============================>.] - ETA: 0s - loss: 126.1882Restoring model weights from the end of the best epoch.\n",
            "237160/237160 [==============================] - 2s 10us/sample - loss: 126.1616 - val_loss: 112.4995\n",
            "Epoch 00029: early stopping\n"
          ],
          "name": "stdout"
        }
      ]
    },
    {
      "cell_type": "code",
      "metadata": {
        "id": "Yg4W77_VuLDi",
        "colab_type": "code",
        "outputId": "a34c1d27-1352-40b2-b2dc-196911f30c99",
        "colab": {
          "base_uri": "https://localhost:8080/",
          "height": 35
        }
      },
      "source": [
        "# Evaluating model\n",
        "nn_pred=model.predict(X_test_scaled)\n",
        "print(np.sqrt(mean_squared_error(Y_test,nn_pred)))"
      ],
      "execution_count": 0,
      "outputs": [
        {
          "output_type": "stream",
          "text": [
            "1.6427176582267096\n"
          ],
          "name": "stdout"
        }
      ]
    },
    {
      "cell_type": "markdown",
      "metadata": {
        "id": "J1ifZSkyGsu4",
        "colab_type": "text"
      },
      "source": [
        "### **Results**\n",
        "Now, as I have finished my modeling phase, it's time to analyze the results."
      ]
    },
    {
      "cell_type": "markdown",
      "metadata": {
        "id": "dH51i3LWw1Zj",
        "colab_type": "text"
      },
      "source": [
        "| Model                                    | RMSE               |\n",
        "|------------------------------------------|--------------------|\n",
        "| Multiple Linear Regression               | 2.4545057206601055 |\n",
        "| Multi-Dimensional Polynomial Regresssion | 1.2163359424484355 |\n",
        "| XGBoost Regressor                        | 1.3080269271208989 |\n",
        "| Multi-Layer Perceptron                   | 1.6427176582267096 |"
      ]
    },
    {
      "cell_type": "markdown",
      "metadata": {
        "id": "IibN1uICyATw",
        "colab_type": "text"
      },
      "source": [
        "As you can see, the Multi-Dimensional Polynomial Regression model performed better than all other models. It has the lowest RMSE among all succeeding the XGBoost Regressor with the slightest margin."
      ]
    },
    {
      "cell_type": "markdown",
      "metadata": {
        "id": "lIx5F3ClyKXm",
        "colab_type": "text"
      },
      "source": [
        "### **Final**\n",
        "Now, it is time to prepare our final model. I am now creating a pipeline comprising of StandardScaler(), PolynomialFeatures(), and LinearRegression()."
      ]
    },
    {
      "cell_type": "code",
      "metadata": {
        "id": "RDxlTnZfGuIu",
        "colab_type": "code",
        "colab": {}
      },
      "source": [
        "Input=[('standard-scaler',StandardScaler()),('polynomial',PolynomialFeatures(degree=6)),('modal',LinearRegression())]\n",
        "pipe=Pipeline(Input)"
      ],
      "execution_count": 0,
      "outputs": []
    },
    {
      "cell_type": "markdown",
      "metadata": {
        "id": "HXJRSnCLyuYY",
        "colab_type": "text"
      },
      "source": [
        "Here, I am fitting the model on the whole original dataset. It will standardize the dataset itself."
      ]
    },
    {
      "cell_type": "code",
      "metadata": {
        "id": "GRTMs4OcGwKf",
        "colab_type": "code",
        "outputId": "a2094d93-1936-47bc-e4ca-6e5059a09afa",
        "colab": {
          "base_uri": "https://localhost:8080/",
          "height": 194
        }
      },
      "source": [
        "pipe.fit(X,Y)"
      ],
      "execution_count": 0,
      "outputs": [
        {
          "output_type": "execute_result",
          "data": {
            "text/plain": [
              "Pipeline(memory=None,\n",
              "         steps=[('standard-scaler',\n",
              "                 StandardScaler(copy=True, with_mean=True, with_std=True)),\n",
              "                ('polynomial',\n",
              "                 PolynomialFeatures(degree=6, include_bias=True,\n",
              "                                    interaction_only=False, order='C')),\n",
              "                ('modal',\n",
              "                 LinearRegression(copy_X=True, fit_intercept=True, n_jobs=None,\n",
              "                                  normalize=False))],\n",
              "         verbose=False)"
            ]
          },
          "metadata": {
            "tags": []
          },
          "execution_count": 23
        }
      ]
    },
    {
      "cell_type": "markdown",
      "metadata": {
        "id": "nzdJecpBzgcK",
        "colab_type": "text"
      },
      "source": [
        "I am saving the model in the form of pickle."
      ]
    },
    {
      "cell_type": "code",
      "metadata": {
        "id": "JgfLuMzIJbMO",
        "colab_type": "code",
        "outputId": "98483d3c-fe41-4ead-e0a8-53214d089fed",
        "colab": {
          "base_uri": "https://localhost:8080/",
          "height": 35
        }
      },
      "source": [
        "joblib.dump(pipe,'model.pkl')"
      ],
      "execution_count": 0,
      "outputs": [
        {
          "output_type": "execute_result",
          "data": {
            "text/plain": [
              "['model.pkl']"
            ]
          },
          "metadata": {
            "tags": []
          },
          "execution_count": 38
        }
      ]
    }
  ]
}